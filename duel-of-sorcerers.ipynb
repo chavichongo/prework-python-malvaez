{
 "cells": [
  {
   "cell_type": "markdown",
   "metadata": {},
   "source": [
    "<img src=\"https://bit.ly/2VnXWr2\" width=\"100\" align=\"left\">"
   ]
  },
  {
   "cell_type": "markdown",
   "metadata": {},
   "source": [
    "# Duel of Sorcerers\n",
    "You are witnessing an epic battle between two powerful sorcerers: Gandalf and Saruman. Each sorcerer has 10 spells of variable power in their mind and they are going to throw them one after the other. The winner of the duel will be the one who wins more of those clashes between spells. Spells are represented as a list of 10 integers whose value equals the power of the spell.\n",
    "```\n",
    "gandalf = [10, 11, 13, 30, 22, 11, 10, 33, 22, 22]\n",
    "saruman = [23, 66, 12, 43, 12, 10, 44, 23, 12, 17]\n",
    "```\n",
    "For example:\n",
    "- The first clash is won by Saruman: 10 against 23.\n",
    "- The second clash is won by Saruman: 11 against 66.\n",
    "- ...\n",
    "\n",
    "You will create two variables, one for each sorcerer, where the sum of clashes won will be stored. Depending on which variable is greater at the end of the duel, you will show one of the following three results on the screen:\n",
    "* Gandalf wins\n",
    "* Saruman wins\n",
    "* Tie\n",
    "\n",
    "<img src=\"images/content_lightning_bolt_big.jpg\" width=\"400\">"
   ]
  },
  {
   "cell_type": "markdown",
   "metadata": {},
   "source": [
    "## Tools\n",
    "You don't necessarily need to use all the tools. Maybe you opt to use some of them or completely different ones, they are given to help you shape the exercise. Programming exercises can be solved in many different ways.\n",
    "\n",
    "1. Data structures: **lists, dictionaries**\n",
    "2. Loop: **for loop**\n",
    "3. Conditional statements: **if-elif-else**\n",
    "4. Functions: **range(), len(), print()**\n",
    "\n",
    "## Tasks\n",
    "\n",
    "#### 1. Create two variables called `gandalf` and `saruman` and assign them the spell power lists. Create a variable called `spells` to store the number of spells that the sorcerers cast. "
   ]
  },
  {
   "cell_type": "code",
   "execution_count": 55,
   "metadata": {},
   "outputs": [],
   "source": [
    "gandalf = [10, 11, 13, 30, 22, 11, 10, 33, 22, 22]\n",
    "saruman = [23, 66, 12, 43, 12, 10, 44, 23, 12, 17]\n",
    "spells = [0, 1, 2, 3, 4, 5, 6, 7, 8, 9]"
   ]
  },
  {
   "cell_type": "markdown",
   "metadata": {},
   "source": [
    "#### 2. Create two variables called `gandalf_wins` and `saruman_wins`. Set both of them to 0. \n",
    "You will use these variables to count the number of clashes each sorcerer wins. "
   ]
  },
  {
   "cell_type": "code",
   "execution_count": 48,
   "metadata": {},
   "outputs": [],
   "source": [
    "gandalf_wins = 0\n",
    "saruman_wins = 0\n",
    "Tie = 0"
   ]
  },
  {
   "cell_type": "markdown",
   "metadata": {},
   "source": [
    "#### 3. Using the lists of spells of both sorcerers, update variables `gandalf_wins` and `saruman_wins` to count the number of times each sorcerer wins a clash. "
   ]
  },
  {
   "cell_type": "code",
   "execution_count": 63,
   "metadata": {},
   "outputs": [
    {
     "name": "stdout",
     "output_type": "stream",
     "text": [
      "Saruman wins round 1\n",
      "Saruman wins round 2\n",
      "Gandalf wins round 3\n",
      "Saruman wins round 4\n",
      "Gandalf wins round 5\n",
      "Gandalf wins round 6\n",
      "Saruman wins round 7\n",
      "Gandalf wins round 8\n",
      "Gandalf wins round 9\n",
      "Gandalf wins round 10\n",
      "Saruman wins: 12\n",
      "Gandalf wins: 8\n",
      "It's a tie: 0\n"
     ]
    }
   ],
   "source": [
    "result = []\n",
    "for i in spells:\n",
    "    result.append(gandalf[i] - saruman[i])\n",
    "    if result[i] < 0:\n",
    "        gandalf_wins += 1\n",
    "        print(\"Saruman wins round\", i+1)\n",
    "    elif result[i] > 0:\n",
    "        saruman_wins += 1\n",
    "        print(\"Gandalf wins round\", i+1)\n",
    "    else:\n",
    "        print(\"It's a tie for round\", i+1)\n",
    "        Tie += 1\n",
    "print(\"Saruman wins:\", saruman_wins)\n",
    "print(\"Gandalf wins:\", gandalf_wins)\n",
    "print(\"It's a tie:\", Tie)"
   ]
  },
  {
   "cell_type": "markdown",
   "metadata": {},
   "source": [
    "#### 4. Who won the battle?\n",
    "Print `Gandalf wins`, `Saruman wins` or `Tie` depending on the result. "
   ]
  },
  {
   "cell_type": "code",
   "execution_count": 64,
   "metadata": {},
   "outputs": [],
   "source": [
    "#Also shown in previous exercise"
   ]
  },
  {
   "cell_type": "markdown",
   "metadata": {},
   "source": [
    "## Bonus\n",
    "\n",
    "In this bonus challenge, you'll need to check the winner of the battle but this time, a sorcerer wins if he succeeds in winning 3 spell clashes in a row.\n",
    "\n",
    "Also, the spells now have a name and there is a dictionary that associates that name to a power.\n",
    "\n",
    "```\n",
    "POWER = {\n",
    "    'Fireball': 50, \n",
    "    'Lightning bolt': 40, \n",
    "    'Magic arrow': 10, \n",
    "    'Black Tentacles': 25, \n",
    "    'Contagion': 45\n",
    "}\n",
    "\n",
    "gandalf = ['Fireball', 'Lightning bolt', 'Lightning bolt', 'Magic arrow', 'Fireball', \n",
    "           'Magic arrow', 'Lightning bolt', 'Fireball', 'Fireball', 'Fireball']\n",
    "saruman = ['Contagion', 'Contagion', 'Black Tentacles', 'Fireball', 'Black Tentacles', \n",
    "           'Lightning bolt', 'Magic arrow', 'Contagion', 'Magic arrow', 'Magic arrow']\n",
    "```\n",
    "\n",
    "#### 1. Create variables `POWER`, `gandalf` and `saruman` as seen above. Create a variable called `spells` to store the number of spells that the sorcerers cast. "
   ]
  },
  {
   "cell_type": "code",
   "execution_count": 68,
   "metadata": {},
   "outputs": [],
   "source": [
    "POWER = {\n",
    "    'Fireball': 50, \n",
    "    'Lightning bolt': 40, \n",
    "    'Magic arrow': 10, \n",
    "    'Black Tentacles': 25, \n",
    "    'Contagion': 45\n",
    "}\n",
    "gandalf = ['Fireball', 'Lightning bolt', 'Lightning bolt', 'Magic arrow', 'Fireball', \n",
    "           'Magic arrow', 'Lightning bolt', 'Fireball', 'Fireball', 'Fireball']\n",
    "saruman = ['Contagion', 'Contagion', 'Black Tentacles', 'Fireball', 'Black Tentacles', \n",
    "           'Lightning bolt', 'Magic arrow', 'Contagion', 'Magic arrow', 'Magic arrow']"
   ]
  },
  {
   "cell_type": "markdown",
   "metadata": {},
   "source": [
    "#### 2. Create two variables called `gandalf_wins` and `saruman_wins`. Set both of them to 0. "
   ]
  },
  {
   "cell_type": "code",
   "execution_count": 69,
   "metadata": {},
   "outputs": [],
   "source": [
    "gandalf_wins = 0\n",
    "saruman_wins = 0"
   ]
  },
  {
   "cell_type": "markdown",
   "metadata": {},
   "source": [
    "#### 3. Create two variables called `gandalf_power` and `saruman_power` to store the list of spell powers of each sorcerer."
   ]
  },
  {
   "cell_type": "code",
   "execution_count": 96,
   "metadata": {},
   "outputs": [
    {
     "name": "stdout",
     "output_type": "stream",
     "text": [
      "[50, 40, 40, 10, 50, 10, 40, 50, 50, 50]\n",
      "[45, 45, 25, 50, 25, 40, 10, 45, 10, 10]\n"
     ]
    }
   ],
   "source": [
    "gandalf_power = []\n",
    "saruman_power = []\n",
    "\n",
    "for i in gandalf:\n",
    "    if i == 'Fireball':\n",
    "        gandalf_power.append(POWER['Fireball'])\n",
    "    elif i == 'Lightning bolt':\n",
    "        gandalf_power.append(POWER['Lightning bolt'])\n",
    "    elif i == 'Magic arrow':\n",
    "        gandalf_power.append(POWER['Magic arrow'])\n",
    "    elif i == 'Black Tentacles':\n",
    "        gandalf_power.append(POWER['Black Tentacles'])\n",
    "    elif i == 'Contagion':\n",
    "        gandalf_power.append(POWER['Contagion'])\n",
    "        \n",
    "for i in saruman:\n",
    "    if i == 'Fireball':\n",
    "        saruman_power.append(POWER['Fireball'])\n",
    "    elif i == 'Lightning bolt':\n",
    "        saruman_power.append(POWER['Lightning bolt'])\n",
    "    elif i == 'Magic arrow':\n",
    "        saruman_power.append(POWER['Magic arrow'])\n",
    "    elif i == 'Black Tentacles':\n",
    "        saruman_power.append(POWER['Black Tentacles'])\n",
    "    elif i == 'Contagion':\n",
    "        saruman_power.append(POWER['Contagion'])\n",
    "\n",
    "print(gandalf_power)\n",
    "print(saruman_power)"
   ]
  },
  {
   "cell_type": "markdown",
   "metadata": {},
   "source": [
    "#### 4. The battle starts! Using the variables you've created above, code the execution of spell clashes. Remember that a sorcerer wins if he succeeds in winning 3 spell clashes in a row. \n",
    "If a clash ends up in a tie, the counter of wins in a row is not restarted to 0. Remember to print who is the winner of the battle. "
   ]
  },
  {
   "cell_type": "code",
   "execution_count": 103,
   "metadata": {},
   "outputs": [
    {
     "name": "stdout",
     "output_type": "stream",
     "text": [
      "Gandalf wins 1 times.\n",
      "Saruman wins 0 times.\n"
     ]
    }
   ],
   "source": [
    "res = []\n",
    "i = 0\n",
    "sar_strk = 0\n",
    "gan_strk = 0\n",
    "sar_win = 0\n",
    "gan_win = 0\n",
    "ties = 0\n",
    "rounds = [0, 1, 2, 3, 4, 5, 6, 7, 8, 9]\n",
    "for i in rounds:\n",
    "    res.append(gandalf_power[i]-saruman_power[i])\n",
    "    if res[i] < 0: #gana saruman\n",
    "        sar_strk += 1\n",
    "        gan_strk = 0\n",
    "        if sar_strk == 3:\n",
    "            sar_win += 1\n",
    "    elif res[i] > 0: #gana gandalf\n",
    "        sar_strk = 0\n",
    "        gan_strk += 1\n",
    "        if gan_strk == 3:\n",
    "            gan_win += 1\n",
    "            \n",
    "print(\"Gandalf wins\", gan_win, \"times.\")\n",
    "print(\"Saruman wins\", sar_win, \"times.\")"
   ]
  },
  {
   "cell_type": "markdown",
   "metadata": {},
   "source": [
    "#### 5. Find the average spell power of Gandalf and Saruman. "
   ]
  },
  {
   "cell_type": "code",
   "execution_count": 106,
   "metadata": {},
   "outputs": [
    {
     "name": "stdout",
     "output_type": "stream",
     "text": [
      "Gandalf's average power: 39.0\n",
      "Saruman's average power: 30.5\n"
     ]
    }
   ],
   "source": [
    "print(\"Gandalf's average power:\", sum(gandalf_power)/len(gandalf_power))\n",
    "print(\"Saruman's average power:\", sum(saruman_power)/len(saruman_power))"
   ]
  },
  {
   "cell_type": "markdown",
   "metadata": {},
   "source": [
    "#### 6. Find the standard deviation of the spell power of Gandalf and Saruman. "
   ]
  },
  {
   "cell_type": "code",
   "execution_count": 107,
   "metadata": {},
   "outputs": [
    {
     "name": "stdout",
     "output_type": "stream",
     "text": [
      "Gandalf's standard deviation: 15.951314818673865\n",
      "Saruman's standard deviation: 16.40629960309962\n"
     ]
    }
   ],
   "source": [
    "import statistics\n",
    "print(\"Gandalf's standard deviation:\", statistics.stdev(gandalf_power))\n",
    "print(\"Saruman's standard deviation:\", statistics.stdev(saruman_power))"
   ]
  }
 ],
 "metadata": {
  "kernelspec": {
   "display_name": "Python 3",
   "language": "python",
   "name": "python3"
  },
  "language_info": {
   "codemirror_mode": {
    "name": "ipython",
    "version": 3
   },
   "file_extension": ".py",
   "mimetype": "text/x-python",
   "name": "python",
   "nbconvert_exporter": "python",
   "pygments_lexer": "ipython3",
   "version": "3.8.8"
  }
 },
 "nbformat": 4,
 "nbformat_minor": 2
}
